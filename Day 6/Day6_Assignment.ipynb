{
 "cells": [
  {
   "cell_type": "markdown",
   "metadata": {},
   "source": [
    "### Question 1 : Assuming that we have some email addresses in the \"username@companyname.com\" format, please write a program to print the company name of a given email address. Both user names and company names are composed of letters only.\n",
    "Input Format:\n",
    "The first line of the input contains an email address.\n",
    "Output Format:\n",
    "Print the company name in a single line.\n",
    "Example;\n",
    "Input:\n",
    "john@google.com\n",
    "Output:\n",
    "google."
   ]
  },
  {
   "cell_type": "code",
   "execution_count": 1,
   "metadata": {},
   "outputs": [
    {
     "name": "stdout",
     "output_type": "stream",
     "text": [
      "Extracting company name from sivaram@hitech.com is:hitech\n"
     ]
    }
   ],
   "source": [
    "def extract_company(email):\n",
    "    extr1=email.split(\"@\")[1].split(\".\")[0]\n",
    "    print(\"Extracting company name from {0} is:{1}\".format(email,extr1))\n",
    "    \n",
    "extract_company(\"sivaram@hitech.com\")"
   ]
  },
  {
   "cell_type": "markdown",
   "metadata": {},
   "source": [
    "### Question 2 : Write a program that accepts a comma-separated sequence of words as input and prints the words in a comma-separated sequence after sorting them alphabetically.\n",
    "Input Format:\n",
    "The first line of input contains words separated by the comma.\n",
    "Output Format:\n",
    "Print the sorted words separated by the comma.\n",
    "Example:\n",
    "Input:\n",
    "without,hello,bag,world\n",
    "Output:\n",
    "bag,hello,without,world"
   ]
  },
  {
   "cell_type": "code",
   "execution_count": 17,
   "metadata": {},
   "outputs": [
    {
     "name": "stdout",
     "output_type": "stream",
     "text": [
      "after sorting the comma seperated string: bag,hello,without,world\n"
     ]
    }
   ],
   "source": [
    "def sort_commasepstring(str1):\n",
    "    list1=str1.split(\",\")\n",
    "    list2=sorted(list1)\n",
    "    str2=\"\"\n",
    "    for i in range(len(list2)):\n",
    "        if(i!=len(list2)-1):\n",
    "            str2+=list2[i]+\",\"\n",
    "        else:\n",
    "            str2+=list2[i]\n",
    "    print(\"after sorting the comma seperated string:\",str2)\n",
    "    \n",
    "sort_commasepstring(\"without,hello,bag,world\")"
   ]
  },
  {
   "cell_type": "markdown",
   "metadata": {},
   "source": [
    "### Question 3: Create your own Jupyter Notebook for Sets. Reference link:"
   ]
  },
  {
   "cell_type": "code",
   "execution_count": 22,
   "metadata": {
    "scrolled": true
   },
   "outputs": [
    {
     "name": "stdout",
     "output_type": "stream",
     "text": [
      "<class 'set'>\n",
      "{'surya', 'siva', 'satya'}\n",
      "{'surya', 'siva', 'satya'}\n",
      "{'surya', 'siva', 'satya'}\n",
      "{40, 10, 50, 20, 60, 30}\n",
      "{70, 40, 10, 80, 50, 20, 90, 30}\n",
      "4\n",
      "{40, 10, 50, 60, 30}\n",
      "{40, 10, 50, 20, 60, 30}\n",
      "{10, 50, 20, 60, 30} 40\n",
      "set()\n",
      "{40, 10, 50, 20, 60, 30}\n"
     ]
    }
   ],
   "source": [
    "#Creating set\n",
    "set1 = {\"surya\", \"siva\", \"satya\"}\n",
    "print(set)\n",
    "\n",
    "#Accessing set\n",
    "set2 = {\"krishna\", \"hari\", \"murali\"}\n",
    "for i in set1:\n",
    "    print(set1)\n",
    "\n",
    "#Adding item\n",
    "s1 = {10,20,30,40,50}\n",
    "s1.add(60)\n",
    "print(s1)\n",
    "\n",
    "#Updating item\n",
    "s1 = {10,20,30,40,50}\n",
    "s1.update([70,80,90])\n",
    "print(s1)\n",
    "\n",
    "#length of set\n",
    "s1 = {30,40,50,60}\n",
    "print(len(s1))\n",
    "          \n",
    "          \n",
    "#remove item from set\n",
    "s1 = {10,20,30,40,50,60}\n",
    "s1.remove(20)\n",
    "print(s1)\n",
    "\n",
    "#discard an item from set\n",
    "s1 = {10,20,30,40,50,60}\n",
    "s1.discard(200)\n",
    "print(s1)\n",
    "\n",
    "#Pop an item\n",
    "s1 = {10,20,30,40,50,60}\n",
    "r = s1.pop()\n",
    "print(s1,r)\n",
    "\n",
    "#Clear an item\n",
    "s1 = {10,20,30,40,50,60}\n",
    "s1.clear()\n",
    "print(s1)\n",
    "\n",
    "#delete \n",
    "set3 = {\"Car\", \"bike\", \"Trolley\"}\n",
    "del set3\n",
    "# print(set3) # If we print this line, set3 is deleted, so the output will be displayed as 'set3 name is not defined'.\n",
    "\n",
    "s1 = {10,20,30,40}\n",
    "s2 = {40,50,60,20}\n",
    "s3 = s1.union(s2)\n",
    "print(s3)"
   ]
  },
  {
   "cell_type": "markdown",
   "metadata": {},
   "source": [
    "### Question 4: Given a list of n-1 numbers ranging from 1 to n, your task is to find the missing number. There are no duplicates.\n",
    "Input Format:\n",
    "The first line contains n-1 numbers with each number separated by a space.\n",
    "Output Format:\n",
    "Print the missing number\n",
    "Example:\n",
    "Input:\n",
    "1 2 4 6 3 7 8\n",
    "Output:\n",
    "5\n",
    "Explanation:\n",
    "In the above list of numbers 5 is missing and hence 5 is the input"
   ]
  },
  {
   "cell_type": "code",
   "execution_count": 27,
   "metadata": {},
   "outputs": [
    {
     "name": "stdout",
     "output_type": "stream",
     "text": [
      "2 is missing number\n"
     ]
    }
   ],
   "source": [
    "def find_missingno(list1):\n",
    "    for i in range(list1[0],len(list1)):\n",
    "        if i not in list1:\n",
    "            print(\"{0} is missing number\".format(i))\n",
    "\n",
    "list1=[1,3,4,5,6,7]\n",
    "find_missingno(list1)"
   ]
  },
  {
   "cell_type": "markdown",
   "metadata": {},
   "source": [
    "### Question 5: With a given list L, write a program to print this list L after removing all duplicate values with original order reserved.\n",
    "Example:\n",
    "If the input list is\n",
    "12 24 35 24 88 120 155 88 120 155\n",
    "Then the output should be\n",
    "12 24 35 88 120 155\n",
    "Explanation:\n",
    "Third, the seventh and ninth element of the list L has been removed because it was already present.\n",
    "Input Format:\n",
    "In one line take the elements of the list L with each element separated by a space.\n",
    "Output Format:\n",
    "Print the elements of the modified list in one line with each element separated by a space.\n",
    "Example:\n",
    "Input:\n",
    "12 24 35 24\n",
    "Output:\n",
    "12 24 35"
   ]
  },
  {
   "cell_type": "code",
   "execution_count": 1,
   "metadata": {},
   "outputs": [
    {
     "data": {
      "text/plain": [
       "[12, 24, 35, 88, 120, 155]"
      ]
     },
     "execution_count": 1,
     "metadata": {},
     "output_type": "execute_result"
    }
   ],
   "source": [
    "def remove_duplicates(list1):\n",
    "    list2=[]\n",
    "    for i in list1:\n",
    "        if i not in list2:\n",
    "            list2.append(i)\n",
    "    return list2\n",
    "\n",
    "list1=[12,24,35,24,88,120,155,88,120,155]\n",
    "remove_duplicates(list1)"
   ]
  }
 ],
 "metadata": {
  "kernelspec": {
   "display_name": "Python 3",
   "language": "python",
   "name": "python3"
  },
  "language_info": {
   "codemirror_mode": {
    "name": "ipython",
    "version": 3
   },
   "file_extension": ".py",
   "mimetype": "text/x-python",
   "name": "python",
   "nbconvert_exporter": "python",
   "pygments_lexer": "ipython3",
   "version": "3.7.3"
  }
 },
 "nbformat": 4,
 "nbformat_minor": 2
}
