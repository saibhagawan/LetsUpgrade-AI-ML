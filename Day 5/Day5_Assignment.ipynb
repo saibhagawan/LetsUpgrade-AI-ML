{
 "cells": [
  {
   "cell_type": "markdown",
   "metadata": {},
   "source": [
    "### Question 1 : Write a Python program to find the first 20 non-even prime natural numbers."
   ]
  },
  {
   "cell_type": "code",
   "execution_count": 25,
   "metadata": {},
   "outputs": [
    {
     "name": "stdout",
     "output_type": "stream",
     "text": [
      "first 20 non-even prime natural numbers are:\n",
      "1 3 5 7 11 13 17 19 23 29 31 37 41 43 47 53 59 61 67 71 "
     ]
    }
   ],
   "source": [
    "\n",
    "# Python3 program to display first N Prime numbers \n",
    "\n",
    "temp = 0\n",
    "\n",
    "print(\"first 20 non-even prime natural numbers are:\") \n",
    "for i in range(1,100,1):\n",
    "    if (i == 1 or i == 0):\n",
    "        print(i,end=' ')\n",
    "        cnt=1\n",
    "        continue;\n",
    "    if(i==2):\n",
    "        continue\n",
    "    temp = 1; \n",
    "    for j in range(2, ((i // 2) + 1), 1): \n",
    "        if (i%j == 0): \n",
    "            temp = 0;\n",
    "            break\n",
    "    if (temp == 1): \n",
    "        print(i, end = \" \")\n",
    "        cnt=cnt+1\n",
    "    if(cnt==20):\n",
    "            break"
   ]
  },
  {
   "cell_type": "markdown",
   "metadata": {},
   "source": [
    "### Question 2 : Write a Python program to implement 15 functions of string."
   ]
  },
  {
   "cell_type": "code",
   "execution_count": 50,
   "metadata": {},
   "outputs": [
    {
     "name": "stdout",
     "output_type": "stream",
     "text": [
      "It is a class of Letsupgrade AI/ML\n",
      "capitalize function for Letsupgrade AI/ML is: Letsupgrade ai/ml\n",
      "upper function for Letsupgrade AI/ML is: LETSUPGRADE AI/ML\n",
      "lower function for Letsupgrade AI/ML is: letsupgrade ai/ml\n",
      "split function for Letsupgrade AI/ML is: ['Letsupgrade', 'AI/ML']\n",
      "find function for Letsupgrade AI/ML is: 12\n",
      "is alpha function for Letsupgrade AI/ML is: False\n",
      "isalnum function for Letsupgrade AI/ML is: False\n",
      "isdigit function for Letsupgrade AI/ML is: False\n",
      "count function for Letsupgrade AI/ML is: 2\n",
      "replace function for Letsupgrade AI/ML is: Letsupgrade AI-ML\n",
      "index function for Letsupgrade AI/ML is: 4\n",
      "title function for Letsupgrade AI/ML is: Letsupgrade Ai/Ml\n",
      "startswith function for Letsupgrade AI/ML is: True\n",
      "swapcase function for Letsupgrade AI/ML is: lETSUPGRADE ai/ml\n"
     ]
    }
   ],
   "source": [
    "string1=\"Letsupgrade AI/ML\"\n",
    "list1=[\"Lets\",\"Upgrade\",\"AI/ML\",\"Course\"]\n",
    "# format() function\n",
    "print(\"It is a class of {0}\".format(string1))\n",
    "# capitalize() function to obtain first character as capital letter\n",
    "print(\"capitalize function for {0} is: {1}\".format(string1,string1.capitalize()))\n",
    "# upper() function to capitalize all letters in a string\n",
    "print(\"upper function for {0} is: {1}\".format(string1,string1.upper()))\n",
    "# lower() function to modify as lowercase for all letters in a string\n",
    "print(\"lower function for {0} is: {1}\".format(string1,string1.lower()))\n",
    "# split() function to split a string into a list,by default takes splitting argument as space\n",
    "print(\"split function for {0} is: {1}\".format(string1,string1.split()))\n",
    "# find() function to find the position of particular word in a string\n",
    "print(\"find function for {0} is: {1}\".format(string1,string1.find(\"AI/ML\")))\n",
    "# isalpha() function to find in a string is alphabetical or not\n",
    "print(\"is alpha function for {0} is: {1}\".format(string1,string1.isalpha()))\n",
    "# islanum() function to find in a string is alphanumneric or not\n",
    "print(\"isalnum function for {0} is: {1}\".format(string1,string1.isalnum()))\n",
    "# isdigit() function to find in a string is digit or not\n",
    "print(\"isdigit function for {0} is: {1}\".format(string1,string1.isdigit()))\n",
    "# count() function to count the particular letter in a string\n",
    "print(\"count function for {0} is: {1}\".format(string1,string1.count(\"L\")))\n",
    "# replace() function to replace the particualr word or letter to another word or letter in a string\n",
    "print(\"replace function for {0} is: {1}\".format(string1,string1.replace(\"/\",\"-\")))\n",
    "# index() function to locate the particular letter position in a string\n",
    "print(\"index function for {0} is: {1}\".format(string1,string1.index(\"u\")))\n",
    "# title() function to convert the first character of each word in a string\n",
    "print(\"title function for {0} is: {1}\".format(string1,string1.title()))\n",
    "# startswith() function to find aparticular string starting with, in a string\n",
    "print(\"startswith function for {0} is: {1}\".format(string1,string1.startswith(\"L\")))\n",
    "# swapcase() function to swap uppercase to lowercase and lowercase to uppercase for all letters in a string\n",
    "print(\"swapcase function for {0} is: {1}\".format(string1,string1.swapcase()))"
   ]
  },
  {
   "cell_type": "markdown",
   "metadata": {},
   "source": [
    "### Question 3: Write a Python program to check if the given string is a Palindrome or Anagram or None of them. Display the message accordingly to the user."
   ]
  },
  {
   "cell_type": "code",
   "execution_count": 29,
   "metadata": {},
   "outputs": [
    {
     "name": "stdout",
     "output_type": "stream",
     "text": [
      "rotator is a palindrome\n"
     ]
    }
   ],
   "source": [
    "string1=\"rotator\"\n",
    "if(string1[:]==string1[::-1]):\n",
    "    print(\"{0} is a palindrome\".format(string1))\n",
    "else:\n",
    "    print(\"{0} is not a palindrome\".format(string1))"
   ]
  },
  {
   "cell_type": "markdown",
   "metadata": {},
   "source": [
    "### Question 4: Write a Python's user-defined function that removes all the additional characters from the string and convert it finally to lower case using built-in lower(). eg: If the string is \"Dr. Darshan Ingle @AIML Trainer\", then the output be \"drdarshaningleaimltrainer\"."
   ]
  },
  {
   "cell_type": "code",
   "execution_count": 61,
   "metadata": {},
   "outputs": [
    {
     "name": "stdout",
     "output_type": "stream",
     "text": [
      "drdarshaningleaimltrainer\n"
     ]
    }
   ],
   "source": [
    "string1=\"Dr. Darshan Ingle @AIML Trainer\"\n",
    "string2=string1.replace(\"@\",\"\")\n",
    "string3=string2.replace(\".\",\"\")\n",
    "string4=string3.replace(\" \",\"\")\n",
    "print(string4.lower())"
   ]
  }
 ],
 "metadata": {
  "kernelspec": {
   "display_name": "Python 3",
   "language": "python",
   "name": "python3"
  },
  "language_info": {
   "codemirror_mode": {
    "name": "ipython",
    "version": 3
   },
   "file_extension": ".py",
   "mimetype": "text/x-python",
   "name": "python",
   "nbconvert_exporter": "python",
   "pygments_lexer": "ipython3",
   "version": "3.7.3"
  }
 },
 "nbformat": 4,
 "nbformat_minor": 2
}
