{
 "cells": [
  {
   "cell_type": "markdown",
   "metadata": {},
   "source": [
    "### Question 1: Write a program to subtract two complex numbers in Python."
   ]
  },
  {
   "cell_type": "code",
   "execution_count": 2,
   "metadata": {},
   "outputs": [
    {
     "name": "stdout",
     "output_type": "stream",
     "text": [
      "Result after subtracting two complex numbers a and b is: (-1+6j)\n"
     ]
    }
   ],
   "source": [
    "a=2+4j\n",
    "b=3-2j\n",
    "c=a-b\n",
    "print(\"Result after subtracting two complex numbers a and b is:\",c)"
   ]
  },
  {
   "cell_type": "markdown",
   "metadata": {},
   "source": [
    "### Question 2 :Write a program to find the fourth root of a number."
   ]
  },
  {
   "cell_type": "code",
   "execution_count": 4,
   "metadata": {},
   "outputs": [
    {
     "name": "stdout",
     "output_type": "stream",
     "text": [
      "Fourth root a number->a is: 2.0\n"
     ]
    }
   ],
   "source": [
    "import math\n",
    "a=16\n",
    "b=math.sqrt(math.sqrt(a))\n",
    "print(\"Fourth root a number->a is:\",b)"
   ]
  },
  {
   "cell_type": "markdown",
   "metadata": {},
   "source": [
    "### Question 3: Write a program to swap two numbers in Python with the help of a temporary variable."
   ]
  },
  {
   "cell_type": "code",
   "execution_count": 7,
   "metadata": {},
   "outputs": [
    {
     "name": "stdout",
     "output_type": "stream",
     "text": [
      "After swapping of two variables a and b using temporary variable is: a= 8 b= 5\n"
     ]
    }
   ],
   "source": [
    "#swapping of numbers using temporary variable\n",
    "a=5\n",
    "b=8\n",
    "temp=b\n",
    "b=a\n",
    "a=temp\n",
    "print(\"After swapping of two variables a and b using temporary variable is:\",\"a=\",a,\"b=\",b)"
   ]
  },
  {
   "cell_type": "markdown",
   "metadata": {},
   "source": [
    "### Question 4: Write a program to swap two numbers in Python without using a temporary variable."
   ]
  },
  {
   "cell_type": "code",
   "execution_count": 8,
   "metadata": {},
   "outputs": [
    {
     "name": "stdout",
     "output_type": "stream",
     "text": [
      "After swapping of two variables a and b without using temporary variable is: a= 20 b= 10\n"
     ]
    }
   ],
   "source": [
    "#swapping of numbers without using temporary variable\n",
    "a=10\n",
    "b=20\n",
    "a,b=b,a\n",
    "print(\"After swapping of two variables a and b without using temporary variable is:\",\"a=\",a,\"b=\",b)"
   ]
  },
  {
   "cell_type": "markdown",
   "metadata": {},
   "source": [
    "### Question 5: Write a program to convert Fahrenheit to kelvin and celsius both."
   ]
  },
  {
   "cell_type": "code",
   "execution_count": 11,
   "metadata": {},
   "outputs": [
    {
     "name": "stdout",
     "output_type": "stream",
     "text": [
      "Kelvin reading after converting fahreheit reading is: 274.6666666666667\n"
     ]
    }
   ],
   "source": [
    "fahrenheit_read=35\n",
    "kelvin=((fahrenheit_read-32)*5/9)+273\n",
    "print(\"Kelvin reading after converting fahreheit reading is:\",kelvin)"
   ]
  },
  {
   "cell_type": "markdown",
   "metadata": {},
   "source": [
    "### Question 6: Write a program to demonstrate all the available data types in Python. Hint: Use type() function."
   ]
  },
  {
   "cell_type": "code",
   "execution_count": 13,
   "metadata": {},
   "outputs": [
    {
     "name": "stdout",
     "output_type": "stream",
     "text": [
      "Type of a is: <class 'int'>\n",
      "Type of b is: <class 'float'>\n",
      "Type of c is: <class 'complex'>\n",
      "Type of d is: <class 'str'>\n",
      "Type of e is: <class 'list'>\n",
      "Type of f is: <class 'tuple'>\n",
      "Type of g is: <class 'set'>\n",
      "Type of h is: <class 'dict'>\n",
      "Type of i is: <class 'bool'>\n"
     ]
    }
   ],
   "source": [
    "a=10\n",
    "print(\"Type of a is:\",type(a))\n",
    "b=20.05\n",
    "print(\"Type of b is:\",type(b))\n",
    "c=20+19j\n",
    "print(\"Type of c is:\",type(c))\n",
    "d=\"Welcome to Let's Upgrade\"\n",
    "print(\"Type of d is:\",type(d))\n",
    "e=[10,20,30,\"one\",\"two\",40]\n",
    "print(\"Type of e is:\",type(e))\n",
    "f=(15,25,35,45,55,65)\n",
    "print(\"Type of f is:\",type(f))\n",
    "g={12,13,14,16,18,9,4}\n",
    "print(\"Type of g is:\",type(g))\n",
    "h={\"a\":10,\"b\":20,\"c\":30}\n",
    "print(\"Type of h is:\",type(h))\n",
    "i=True\n",
    "print(\"Type of i is:\",type(i))"
   ]
  }
 ],
 "metadata": {
  "kernelspec": {
   "display_name": "Python 3",
   "language": "python",
   "name": "python3"
  },
  "language_info": {
   "codemirror_mode": {
    "name": "ipython",
    "version": 3
   },
   "file_extension": ".py",
   "mimetype": "text/x-python",
   "name": "python",
   "nbconvert_exporter": "python",
   "pygments_lexer": "ipython3",
   "version": "3.7.3"
  }
 },
 "nbformat": 4,
 "nbformat_minor": 2
}
