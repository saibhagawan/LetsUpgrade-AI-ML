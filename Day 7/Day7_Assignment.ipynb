{
 "cells": [
  {
   "cell_type": "markdown",
   "metadata": {},
   "source": [
    "### Question 1: Write a program to copy the contents of one file to another using a for loop. (Don’t use built-in copy function)"
   ]
  },
  {
   "cell_type": "code",
   "execution_count": 35,
   "metadata": {},
   "outputs": [
    {
     "name": "stdout",
     "output_type": "stream",
     "text": [
      "file1 text is:\n",
      "Hi All\n",
      "Welcome to Lets Upgrade AI-ML Course\n",
      "This course will enrich you to grow in your career\n",
      "\n",
      "file1 text is copied to file2\n",
      "\n",
      "Verifying file2 text:\n",
      "Hi All\n",
      "Welcome to Lets Upgrade AI-ML Course\n",
      "This course will enrich you to grow in your career\n"
     ]
    }
   ],
   "source": [
    "f1=open('file1.txt','r')\n",
    "f2=open('file2.txt','w')\n",
    "print(\"file1 text is:\")\n",
    "for line in f1:\n",
    "    print(line,end='')\n",
    "    f2.write(line)\n",
    "f1.close()\n",
    "print(\"\\nfile1 text is copied to file2\\n\")\n",
    "f2.close()\n",
    "print(\"Verifying file2 text:\")\n",
    "f3=open('file2.txt','r')\n",
    "for line1 in f3:\n",
    "    print(line1,end='')"
   ]
  },
  {
   "cell_type": "markdown",
   "metadata": {},
   "source": [
    "### Question 2: Write a Python program to find maximum and minimum values in the dictionary. Do not use built-in min and max functions."
   ]
  },
  {
   "cell_type": "code",
   "execution_count": 11,
   "metadata": {},
   "outputs": [
    {
     "name": "stdout",
     "output_type": "stream",
     "text": [
      "max is: 25 min is: 10\n"
     ]
    }
   ],
   "source": [
    "def find_maxandmin(dict1):\n",
    "    list1=[]\n",
    "    for j in dict1.values():\n",
    "        list1.append(j)\n",
    "    max1=list1[0]\n",
    "    min1=0\n",
    "    for i in range(0,len(list1)-1):\n",
    "        if(list1[i+1]>list1[i]):\n",
    "            max1=list1[i+1]\n",
    "        else:\n",
    "            min1=list1[i+1]\n",
    "            \n",
    "    print(\"max is:\",max1,\"min is:\",min1)\n",
    "\n",
    "dict1={\"a1\":20,\"a2\":10,\"a3\":15,\"a4\":25}\n",
    "find_maxandmin(dict1)"
   ]
  }
 ],
 "metadata": {
  "kernelspec": {
   "display_name": "Python 3",
   "language": "python",
   "name": "python3"
  },
  "language_info": {
   "codemirror_mode": {
    "name": "ipython",
    "version": 3
   },
   "file_extension": ".py",
   "mimetype": "text/x-python",
   "name": "python",
   "nbconvert_exporter": "python",
   "pygments_lexer": "ipython3",
   "version": "3.7.3"
  }
 },
 "nbformat": 4,
 "nbformat_minor": 2
}
