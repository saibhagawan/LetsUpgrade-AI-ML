{
 "cells": [
  {
   "cell_type": "code",
   "execution_count": 2,
   "metadata": {},
   "outputs": [],
   "source": [
    "import numpy as np\n",
    "import scipy as sci"
   ]
  },
  {
   "cell_type": "markdown",
   "metadata": {},
   "source": [
    "### Question 1: Create an element-wise comparison (greater, greater_equal, less and less_equal) of two given arrays"
   ]
  },
  {
   "cell_type": "code",
   "execution_count": 4,
   "metadata": {},
   "outputs": [
    {
     "name": "stdout",
     "output_type": "stream",
     "text": [
      "Element wise comparison of arrays for greater element: [[False False]\n",
      " [ True False]]\n",
      "Element wise comparison of arrays for lesser element: [[False  True]\n",
      " [False False]]\n",
      "Element wise comparison of arrays for greaterthan or equal element: [[ True False]\n",
      " [ True  True]]\n",
      "Element wise comparison of arrays for lesser than or equal element: [[ True  True]\n",
      " [False  True]]\n"
     ]
    }
   ],
   "source": [
    "def greater_elem_arr(arr1,arr2):\n",
    "    if(arr1.shape==arr2.shape):\n",
    "        return arr1>arr2\n",
    "\n",
    "def lesser_elem_arr(arr1,arr2):\n",
    "    if(arr1.shape==arr2.shape):\n",
    "        return arr1<arr2\n",
    "\n",
    "def greaterequal_arr(arr1,arr2):\n",
    "    if(arr1.shape==arr2.shape):\n",
    "        return arr1>=arr2\n",
    "\n",
    "def lesserequal_arr(arr1,arr2):\n",
    "    if(arr1.shape==arr2.shape):\n",
    "        return arr1<=arr2\n",
    "    \n",
    "arr1=np.array([[5,3],\n",
    "               [4,6]])\n",
    "\n",
    "arr2=np.array([[5,4],\n",
    "               [2,6]])\n",
    "\n",
    "print(\"Element wise comparison of arrays for greater element:\",greater_elem_arr(arr1,arr2))\n",
    "print(\"Element wise comparison of arrays for lesser element:\",lesser_elem_arr(arr1,arr2))\n",
    "print(\"Element wise comparison of arrays for greaterthan or equal element:\",greaterequal_arr(arr1,arr2))\n",
    "print(\"Element wise comparison of arrays for lesser than or equal element:\",lesserequal_arr(arr1,arr2))"
   ]
  },
  {
   "cell_type": "markdown",
   "metadata": {},
   "source": [
    "### Question 2: Write a NumPy program to create an array of 10 zeros,10 ones, 10 fives"
   ]
  },
  {
   "cell_type": "code",
   "execution_count": 13,
   "metadata": {},
   "outputs": [
    {
     "name": "stdout",
     "output_type": "stream",
     "text": [
      "[[0. 0. 0. 0. 0.]\n",
      " [0. 0. 0. 0. 0.]]\n",
      "[[0. 0. 0. 0. 0. 0. 0. 0. 0. 0.]]\n",
      "[[1. 1. 1. 1. 1.]\n",
      " [1. 1. 1. 1. 1.]]\n",
      "[[1. 1. 1. 1. 1. 1. 1. 1. 1. 1.]]\n",
      "[[5 5 5 5 5]\n",
      " [5 5 5 5 5]]\n",
      "[[5 5 5 5 5 5 5 5 5 5]]\n"
     ]
    }
   ],
   "source": [
    "# creating an array of 10 zeros\n",
    "print(np.zeros([2,5])) # shape of this array is 2x5\n",
    "print(np.zeros([1,10])) # shape of this array is 2x5\n",
    "\n",
    "# creating an array of 10 ones\n",
    "print(np.ones([2,5])) # shape of this array is 2x5\n",
    "print(np.ones([1,10])) # shape of this array is 2x5\n",
    "\n",
    "# creating an array of 10 zeros\n",
    "print(np.full([2,5],5)) # shape of this array is 2x5\n",
    "print(np.full([1,10],5)) # shape of this array is 2x5"
   ]
  },
  {
   "cell_type": "markdown",
   "metadata": {},
   "source": [
    "### Question 3: Write a NumPy program to compute sum of all elements, sum of each column and sum of each row of a given array"
   ]
  },
  {
   "cell_type": "code",
   "execution_count": 4,
   "metadata": {},
   "outputs": [
    {
     "name": "stdout",
     "output_type": "stream",
     "text": [
      "Original array:\n",
      " [[4 3 5]\n",
      " [2 6 7]\n",
      " [3 4 8]]\n",
      "Sum of all elements:\n",
      " 42\n",
      "Sum of each column:\n",
      " [ 9 13 20]\n",
      "Sum of each row:\n",
      " [12 15 15]\n"
     ]
    }
   ],
   "source": [
    "array1=np.array([[4,3,5],\n",
    "                 [2,6,7],\n",
    "                [3,4,8]])\n",
    "print(\"Original array:\\n\",array1)\n",
    "print(\"Sum of all elements:\\n\",np.sum(array1))\n",
    "print(\"Sum of each column:\\n\",np.sum(array1, axis=0))\n",
    "print(\"Sum of each row:\\n\",np.sum(array1, axis=1))"
   ]
  },
  {
   "cell_type": "markdown",
   "metadata": {},
   "source": [
    "### Question 4: Write a NumPy program to add, subtract, multiply, divide arguments element-wise."
   ]
  },
  {
   "cell_type": "code",
   "execution_count": 17,
   "metadata": {},
   "outputs": [
    {
     "name": "stdout",
     "output_type": "stream",
     "text": [
      "Addition of array1 and array2 is: [[12  7  4]\n",
      " [ 6 12 12]]\n",
      "Subtraction of array1 and array2 is: [[6 3 2]\n",
      " [2 0 4]]\n",
      "Multiplication of array1 and array2 is: [[27 10  3]\n",
      " [ 8 36 32]]\n",
      "Division of array1 and array2 is: [[3.  2.5 3. ]\n",
      " [2.  1.  2. ]]\n"
     ]
    }
   ],
   "source": [
    "def add_arrays(ar1,ar2):\n",
    "    return ar1+ar2\n",
    "\n",
    "def sub_arrays(ar1,ar2):\n",
    "    return ar1-ar2\n",
    "\n",
    "def mul_arrays(ar1,ar2):\n",
    "    return ar1*ar2\n",
    "\n",
    "def div_arrays(ar1,ar2):\n",
    "    return ar1/ar2\n",
    "\n",
    "array1=np.array([[9,5,3],\n",
    "                [4,6,8]])\n",
    "array2=np.array([[3,2,1],\n",
    "                [2,6,4]])\n",
    "\n",
    "print(\"Addition of array1 and array2 is:\",add_arrays(array1,array2))\n",
    "print(\"Subtraction of array1 and array2 is:\",sub_arrays(array1,array2))\n",
    "print(\"Multiplication of array1 and array2 is:\",mul_arrays(array1,array2))\n",
    "print(\"Division of array1 and array2 is:\",div_arrays(array1,array2))"
   ]
  },
  {
   "cell_type": "markdown",
   "metadata": {},
   "source": [
    "### Question 5: Write a NumPy program to compute the trigonometric sine, cosine and tangent array of angles given in degree."
   ]
  },
  {
   "cell_type": "code",
   "execution_count": 19,
   "metadata": {},
   "outputs": [
    {
     "name": "stdout",
     "output_type": "stream",
     "text": [
      "Trigonometric Sine of array1 is: [[ 0.14112001 -0.7568025  -0.2794155 ]\n",
      " [-0.7568025  -0.95892427  0.6569866 ]]\n",
      "Trigonometric Cosine of array1 is: [[-0.9899925  -0.65364362  0.96017029]\n",
      " [-0.65364362  0.28366219  0.75390225]]\n",
      "Trigonometric Tangent of array1 is: [[-0.14254654  1.15782128 -0.29100619]\n",
      " [ 1.15782128 -3.38051501  0.87144798]]\n"
     ]
    }
   ],
   "source": [
    "array1=np.array([[3,4,6],\n",
    "                [4,5,7]])\n",
    "print(\"Trigonometric Sine of array1 is:\",np.sin(array1))\n",
    "print(\"Trigonometric Cosine of array1 is:\",np.cos(array1))\n",
    "print(\"Trigonometric Tangent of array1 is:\",np.tan(array1))"
   ]
  }
 ],
 "metadata": {
  "kernelspec": {
   "display_name": "Python 3",
   "language": "python",
   "name": "python3"
  },
  "language_info": {
   "codemirror_mode": {
    "name": "ipython",
    "version": 3
   },
   "file_extension": ".py",
   "mimetype": "text/x-python",
   "name": "python",
   "nbconvert_exporter": "python",
   "pygments_lexer": "ipython3",
   "version": "3.7.3"
  }
 },
 "nbformat": 4,
 "nbformat_minor": 2
}
