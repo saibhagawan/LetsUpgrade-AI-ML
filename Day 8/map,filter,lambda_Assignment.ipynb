{
 "cells": [
  {
   "cell_type": "markdown",
   "metadata": {},
   "source": [
    "### map(), filter() and reduce() are built-in functions of Python.\n",
    "map()-\n",
    "It applies the given function to all iterables and returns a new list.\n",
    "\n",
    "SYNTAX:\n",
    "\n",
    "map(function, iterables)"
   ]
  },
  {
   "cell_type": "code",
   "execution_count": 1,
   "metadata": {},
   "outputs": [
    {
     "name": "stdout",
     "output_type": "stream",
     "text": [
      "['SURYA', 'SIVA', 'SATYA']\n"
     ]
    }
   ],
   "source": [
    "# map(function,iterables)\n",
    "list1=[\"surya\",\"siva\",\"satya\"]\n",
    "x1=list(map(str.upper,list1))\n",
    "print(x1)"
   ]
  },
  {
   "cell_type": "code",
   "execution_count": 18,
   "metadata": {
    "scrolled": true
   },
   "outputs": [
    {
     "name": "stdout",
     "output_type": "stream",
     "text": [
      "[12, 14, 16, 18, 20, 22, 24, 26, 28]\n"
     ]
    }
   ],
   "source": [
    "# map(function,iterables)\n",
    "def addtwo(x,y):\n",
    "    return x+y\n",
    "x2=list(map(addtwo,[i for i in range(1,10)],[j for j in range(11,20)]))\n",
    "print(x2)"
   ]
  },
  {
   "cell_type": "markdown",
   "metadata": {},
   "source": [
    "### Lambda functions:\n",
    "Everything in the world of programming requires a name, but there still there are a few ananymous mysteries. Lambda functions or Lambda expressions are one of these kind of entities that are nameless.\n",
    "We also call them as anonymous or nameless functions.\n",
    "\n",
    "### syntax:\n",
    "\n",
    "lambda arguments: expression"
   ]
  },
  {
   "cell_type": "code",
   "execution_count": 19,
   "metadata": {},
   "outputs": [
    {
     "name": "stdout",
     "output_type": "stream",
     "text": [
      "7\n"
     ]
    }
   ],
   "source": [
    "#solving arithmetic operations\n",
    "x3=lambda x:x+2\n",
    "print(x3(5))"
   ]
  },
  {
   "cell_type": "code",
   "execution_count": 20,
   "metadata": {},
   "outputs": [
    {
     "name": "stdout",
     "output_type": "stream",
     "text": [
      "9\n"
     ]
    }
   ],
   "source": [
    "#Adding two numbers\n",
    "x4=lambda x,y:x+y\n",
    "print(x4(5,4))"
   ]
  },
  {
   "cell_type": "code",
   "execution_count": 23,
   "metadata": {
    "scrolled": true
   },
   "outputs": [
    {
     "name": "stdout",
     "output_type": "stream",
     "text": [
      "[1, 4, 9, 16, 25, 36, 49, 64, 81]\n"
     ]
    }
   ],
   "source": [
    "# using map function with lambda\n",
    "x5=list(map(lambda x:x**2,[i for i in range(1,10)]))\n",
    "print(x5)"
   ]
  },
  {
   "cell_type": "markdown",
   "metadata": {},
   "source": [
    "### filter()\n",
    "It is used to filter the given iterables with the help of another function passed as an argument to test all the elements to be True or False.\n",
    "\n",
    "SYNTAX:\n",
    "\n",
    "filter(function, iterables)"
   ]
  },
  {
   "cell_type": "code",
   "execution_count": 30,
   "metadata": {},
   "outputs": [
    {
     "name": "stdout",
     "output_type": "stream",
     "text": [
      "[15, 16, 17, 18, 19]\n"
     ]
    }
   ],
   "source": [
    "#Filter the numbers in a list which are greater than 14\n",
    "def no_morethan14(y):\n",
    "    if y>14:\n",
    "        return y\n",
    "\n",
    "x6=filter(no_morethan14,[i for i in range(10,20)])\n",
    "print(list(x6))"
   ]
  },
  {
   "cell_type": "code",
   "execution_count": 29,
   "metadata": {},
   "outputs": [
    {
     "name": "stdout",
     "output_type": "stream",
     "text": [
      "[12, 15, 18, 21, 24, 27, 30]\n"
     ]
    }
   ],
   "source": [
    "#Filter the numbers in a list which are divisible by 3\n",
    "x7=filter(lambda x:x%3==0,[i for i in range(10,31)])\n",
    "print(list(x7))"
   ]
  },
  {
   "cell_type": "markdown",
   "metadata": {},
   "source": [
    "### reduce()\n",
    "It applies some other function to a list that are passed as a parameter to it and finally return a single value.\n",
    "\n",
    "SYNTAX:\n",
    "\n",
    "reduce(function, iterables)"
   ]
  },
  {
   "cell_type": "code",
   "execution_count": 31,
   "metadata": {},
   "outputs": [],
   "source": [
    "import functools\n",
    "from functools import reduce"
   ]
  },
  {
   "cell_type": "code",
   "execution_count": 32,
   "metadata": {},
   "outputs": [
    {
     "name": "stdout",
     "output_type": "stream",
     "text": [
      "35\n"
     ]
    }
   ],
   "source": [
    "def add1(a,b):\n",
    "    return a+b\n",
    "x8=reduce(add1,[i for i in range(5,10)])\n",
    "print(x8)"
   ]
  },
  {
   "cell_type": "code",
   "execution_count": 34,
   "metadata": {},
   "outputs": [
    {
     "name": "stdout",
     "output_type": "stream",
     "text": [
      "24\n"
     ]
    }
   ],
   "source": [
    "x9=reduce(lambda x,y:x*y,[i for i in range(1,5)])\n",
    "print(x9)"
   ]
  }
 ],
 "metadata": {
  "kernelspec": {
   "display_name": "Python 3",
   "language": "python",
   "name": "python3"
  },
  "language_info": {
   "codemirror_mode": {
    "name": "ipython",
    "version": 3
   },
   "file_extension": ".py",
   "mimetype": "text/x-python",
   "name": "python",
   "nbconvert_exporter": "python",
   "pygments_lexer": "ipython3",
   "version": "3.7.3"
  }
 },
 "nbformat": 4,
 "nbformat_minor": 2
}
