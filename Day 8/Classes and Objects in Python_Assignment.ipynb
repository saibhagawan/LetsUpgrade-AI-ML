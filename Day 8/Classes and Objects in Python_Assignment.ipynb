{
 "cells": [
  {
   "cell_type": "markdown",
   "metadata": {},
   "source": [
    "### Python Classes and Objects\n",
    "Python is an object oriented programming language.\n",
    "\n",
    "Almost everything in Python is an object, with its properties and methods.\n",
    "\n",
    "A Class is like an object constructor, or a \"blueprint\" for creating objects.\n",
    "\n",
    "Object is anything in the real world that has some unique characteristics.It has state and behavior. eg: Mouse, keyboard, chair, table, etc\n",
    "\n",
    "Class is a collection of objects. It is a logical entity that has some specific attributes and methods. eg: If you have a student class, then it should contain an attribute and method viz name, standard, age, etc\n",
    "\n",
    "Inheritance means one object acquires properties and behavior of the parent object.\n",
    "\n",
    "The new class is known as the Derived class or Child class.\n",
    "\n",
    "And from which inherited the properties is called as Base class or Parent class.\n",
    "\n",
    "Inheritance provides reusability of the code.\n",
    "\n",
    "Polymorphism: one object many forms.\n",
    "\n",
    "Data Abstraction/Data Hiding\n",
    "\n",
    "Data Encapsulation/ Data Binding"
   ]
  },
  {
   "cell_type": "code",
   "execution_count": 4,
   "metadata": {},
   "outputs": [
    {
     "name": "stdout",
     "output_type": "stream",
     "text": [
      "Hi All\n"
     ]
    }
   ],
   "source": [
    "class xyz:\n",
    "    def display(self):\n",
    "        print(\"Hi All\")\n",
    "\n",
    "s = xyz()\n",
    "s.display()"
   ]
  },
  {
   "cell_type": "code",
   "execution_count": 16,
   "metadata": {},
   "outputs": [
    {
     "name": "stdout",
     "output_type": "stream",
     "text": [
      "Name :  Kiran , class:  8th\n",
      "Name :  Yatharth , class:  6th\n",
      "Student Count is:  2\n"
     ]
    }
   ],
   "source": [
    "class student:\n",
    "    '''Defining student class details'''\n",
    "    studcount = 0\n",
    "\n",
    "    def __init__(self, name, class1):\n",
    "        self.name = name\n",
    "        self.class1 = class1\n",
    "        student.studcount += 1\n",
    "   \n",
    "    def displayCount():\n",
    "        print(\"Total students are: \",student.studcount)\n",
    "\n",
    "    def displayStudent(self):\n",
    "        print(\"Name : \", self.name,  \", class: \", self.class1)\n",
    "\n",
    "stud1=student(\"Kiran\",\"8th\")\n",
    "stud2=student(\"Yatharth\",\"6th\")\n",
    "stud1.displayStudent()\n",
    "stud2.displayStudent()\n",
    "print(\"Student Count is: \",student.studcount)"
   ]
  },
  {
   "cell_type": "markdown",
   "metadata": {},
   "source": [
    "### Built-in Class objects:"
   ]
  },
  {
   "cell_type": "code",
   "execution_count": 17,
   "metadata": {},
   "outputs": [
    {
     "name": "stdout",
     "output_type": "stream",
     "text": [
      "student.__doc__: Defining student class details\n",
      "student.__name__: student\n",
      "student.__module__: __main__\n",
      "student.__bases__: (<class 'object'>,)\n",
      "student.__dict__: {'__module__': '__main__', '__doc__': 'Defining student class details', 'studcount': 2, '__init__': <function student.__init__ at 0x0000026F109C11E0>, 'displayCount': <function student.displayCount at 0x0000026F109C1268>, 'displayStudent': <function student.displayStudent at 0x0000026F109C12F0>, '__dict__': <attribute '__dict__' of 'student' objects>, '__weakref__': <attribute '__weakref__' of 'student' objects>}\n"
     ]
    }
   ],
   "source": [
    "print(\"student.__doc__:\", student.__doc__)\n",
    "print(\"student.__name__:\", student.__name__)\n",
    "print(\"student.__module__:\", student.__module__)\n",
    "print(\"student.__bases__:\", student.__bases__)\n",
    "print(\"student.__dict__:\", student.__dict__)"
   ]
  },
  {
   "cell_type": "markdown",
   "metadata": {},
   "source": [
    "### Inheritance in Python"
   ]
  },
  {
   "cell_type": "code",
   "execution_count": 19,
   "metadata": {},
   "outputs": [
    {
     "name": "stdout",
     "output_type": "stream",
     "text": [
      "Calling child constructor\n",
      "Calling child method\n",
      "Calling parent method\n",
      "Parent attribute : 200\n"
     ]
    }
   ],
   "source": [
    "class Parent:        # define parent class\n",
    "    parentAttr = 100\n",
    "    def __init__(self):\n",
    "        print(\"Calling parent constructor\")\n",
    "\n",
    "    def parentMethod(self):\n",
    "        print(\"Calling parent method\")\n",
    "\n",
    "    def setAttr(self, attr):\n",
    "        Parent.parentAttr = attr\n",
    "\n",
    "    def getAttr(self):\n",
    "        print(\"Parent attribute :\", Parent.parentAttr)\n",
    "\n",
    "class Child(Parent): # define child class\n",
    "    def __init__(self):\n",
    "        print(\"Calling child constructor\")\n",
    "\n",
    "    def childMethod(self):\n",
    "        print(\"Calling child method\")\n",
    "\n",
    "c = Child()          # instance of child\n",
    "c.childMethod()      # child calls its method\n",
    "c.parentMethod()     # calls parent's method\n",
    "c.setAttr(200)       # again call parent's method\n",
    "c.getAttr()          # again call parent's method"
   ]
  },
  {
   "cell_type": "markdown",
   "metadata": {},
   "source": [
    "### Overriding in python"
   ]
  },
  {
   "cell_type": "code",
   "execution_count": 20,
   "metadata": {},
   "outputs": [
    {
     "name": "stdout",
     "output_type": "stream",
     "text": [
      "Calling Student method\n"
     ]
    }
   ],
   "source": [
    "class Teacher:        # define Teacher class\n",
    "    def myMethod(self):\n",
    "        print(\"Calling Teacher method\")\n",
    "\n",
    "class Student(Teacher): # define Student class\n",
    "    def myMethod(self):\n",
    "        print(\"Calling Student method\")\n",
    "\n",
    "s = Student()          # instance of child\n",
    "s.myMethod()"
   ]
  },
  {
   "cell_type": "markdown",
   "metadata": {},
   "source": [
    "### Overloading in python"
   ]
  },
  {
   "cell_type": "code",
   "execution_count": 22,
   "metadata": {},
   "outputs": [
    {
     "name": "stdout",
     "output_type": "stream",
     "text": [
      "Vector (7, 8)\n"
     ]
    }
   ],
   "source": [
    "class Vector:\n",
    "    def __init__(self, a, b):\n",
    "        self.a = a\n",
    "        self.b = b\n",
    "\n",
    "    def __str__(self):\n",
    "        return 'Vector (%d, %d)' % (self.a, self.b)\n",
    "   \n",
    "    def __add__(self,other):\n",
    "        return Vector(self.a + other.a, self.b + other.b)\n",
    "\n",
    "v1 = Vector(2,10)\n",
    "v2 = Vector(5,-2)\n",
    "print(v1 + v2)"
   ]
  },
  {
   "cell_type": "markdown",
   "metadata": {},
   "source": [
    "### Data Encapsulation\n",
    "It is used to restrict access to methods and variables.\n",
    "\n",
    "This can prevent the data to be modified by accident and is know as encapsulation."
   ]
  },
  {
   "cell_type": "code",
   "execution_count": 24,
   "metadata": {},
   "outputs": [
    {
     "name": "stdout",
     "output_type": "stream",
     "text": [
      "Hello \n",
      "Surya\n"
     ]
    },
    {
     "ename": "AttributeError",
     "evalue": "'st' object has no attribute '__show1'",
     "output_type": "error",
     "traceback": [
      "\u001b[1;31m---------------------------------------------------------------------------\u001b[0m",
      "\u001b[1;31mAttributeError\u001b[0m                            Traceback (most recent call last)",
      "\u001b[1;32m<ipython-input-24-8934193db555>\u001b[0m in \u001b[0;36m<module>\u001b[1;34m\u001b[0m\n\u001b[0;32m      9\u001b[0m \u001b[0mv\u001b[0m\u001b[1;33m=\u001b[0m\u001b[0mst\u001b[0m\u001b[1;33m(\u001b[0m\u001b[1;33m)\u001b[0m\u001b[1;33m\u001b[0m\u001b[1;33m\u001b[0m\u001b[0m\n\u001b[0;32m     10\u001b[0m \u001b[0mv\u001b[0m\u001b[1;33m.\u001b[0m\u001b[0mshow\u001b[0m\u001b[1;33m(\u001b[0m\u001b[1;33m)\u001b[0m\u001b[1;33m\u001b[0m\u001b[1;33m\u001b[0m\u001b[0m\n\u001b[1;32m---> 11\u001b[1;33m \u001b[0mv\u001b[0m\u001b[1;33m.\u001b[0m\u001b[0m__show1\u001b[0m\u001b[1;33m(\u001b[0m\u001b[1;33m)\u001b[0m\u001b[1;33m\u001b[0m\u001b[1;33m\u001b[0m\u001b[0m\n\u001b[0m",
      "\u001b[1;31mAttributeError\u001b[0m: 'st' object has no attribute '__show1'"
     ]
    }
   ],
   "source": [
    "class st:\n",
    "    def __init__(self):\n",
    "        self.__show1()\n",
    "    def show(self):\n",
    "        print(\"Surya\")\n",
    "    def __show1(self):\n",
    "        print(\"Hello \")\n",
    "        \n",
    "v=st()\n",
    "v.show()\n",
    "v.__show1()"
   ]
  },
  {
   "cell_type": "markdown",
   "metadata": {},
   "source": [
    "### Data Abstraction:\n",
    "Sometimes we want that objects attributes may or may not be visible outside the class definition.\n",
    "\n",
    "Here, we need to name attributes with double underscore prefix and those attributes then are not directly visible to the outsiders."
   ]
  },
  {
   "cell_type": "code",
   "execution_count": 25,
   "metadata": {},
   "outputs": [
    {
     "name": "stdout",
     "output_type": "stream",
     "text": [
      "1\n",
      "2\n",
      "3\n"
     ]
    },
    {
     "ename": "AttributeError",
     "evalue": "'abc' object has no attribute '__p'",
     "output_type": "error",
     "traceback": [
      "\u001b[1;31m---------------------------------------------------------------------------\u001b[0m",
      "\u001b[1;31mAttributeError\u001b[0m                            Traceback (most recent call last)",
      "\u001b[1;32m<ipython-input-25-7464a4f173f6>\u001b[0m in \u001b[0;36m<module>\u001b[1;34m\u001b[0m\n\u001b[0;32m      9\u001b[0m \u001b[0mv\u001b[0m\u001b[1;33m.\u001b[0m\u001b[0mshow\u001b[0m\u001b[1;33m(\u001b[0m\u001b[1;33m)\u001b[0m\u001b[1;33m\u001b[0m\u001b[1;33m\u001b[0m\u001b[0m\n\u001b[0;32m     10\u001b[0m \u001b[0mv\u001b[0m\u001b[1;33m.\u001b[0m\u001b[0mshow\u001b[0m\u001b[1;33m(\u001b[0m\u001b[1;33m)\u001b[0m\u001b[1;33m\u001b[0m\u001b[1;33m\u001b[0m\u001b[0m\n\u001b[1;32m---> 11\u001b[1;33m \u001b[0mprint\u001b[0m\u001b[1;33m(\u001b[0m\u001b[0mv\u001b[0m\u001b[1;33m.\u001b[0m\u001b[0m__p\u001b[0m\u001b[1;33m)\u001b[0m\u001b[1;33m\u001b[0m\u001b[1;33m\u001b[0m\u001b[0m\n\u001b[0m",
      "\u001b[1;31mAttributeError\u001b[0m: 'abc' object has no attribute '__p'"
     ]
    }
   ],
   "source": [
    "class abc:\n",
    "    __p=0\n",
    "    def show(self):\n",
    "        self.__p=self.__p+1\n",
    "        print(self.__p)\n",
    "\n",
    "v=abc()\n",
    "v.show()\n",
    "v.show()\n",
    "v.show()\n",
    "print(v.__p)"
   ]
  },
  {
   "cell_type": "markdown",
   "metadata": {},
   "source": [
    "### Poymorphism"
   ]
  },
  {
   "cell_type": "code",
   "execution_count": 27,
   "metadata": {},
   "outputs": [
    {
     "name": "stdout",
     "output_type": "stream",
     "text": [
      "s=  11\n",
      "s=  Surya\n",
      "s=  2.546\n",
      "s=  (5+6j)\n"
     ]
    }
   ],
   "source": [
    "def show(s):\n",
    "    print(\"s= \",s)\n",
    "\n",
    "show(11)\n",
    "show(\"Surya\")\n",
    "show(2.546)\n",
    "show(complex(5,6))"
   ]
  }
 ],
 "metadata": {
  "kernelspec": {
   "display_name": "Python 3",
   "language": "python",
   "name": "python3"
  },
  "language_info": {
   "codemirror_mode": {
    "name": "ipython",
    "version": 3
   },
   "file_extension": ".py",
   "mimetype": "text/x-python",
   "name": "python",
   "nbconvert_exporter": "python",
   "pygments_lexer": "ipython3",
   "version": "3.7.3"
  }
 },
 "nbformat": 4,
 "nbformat_minor": 2
}
